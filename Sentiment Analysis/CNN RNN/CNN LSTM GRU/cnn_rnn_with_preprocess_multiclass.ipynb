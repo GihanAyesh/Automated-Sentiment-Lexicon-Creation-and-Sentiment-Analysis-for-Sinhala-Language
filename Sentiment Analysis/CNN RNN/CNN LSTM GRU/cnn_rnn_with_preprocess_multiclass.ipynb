{
 "cells": [
  {
   "cell_type": "markdown",
   "metadata": {
    "colab_type": "text",
    "id": "t6nTBbEWxpxA"
   },
   "source": [
    "# References\n",
    "https://github.com/ultimate010/crnn \n",
    "{Combination of Convolutional and Recurrent Neural Network for Sentiment Analysis of Short Texts}\n",
    "https://keras.io/examples/imdb_bidirectional_lstm/"
   ]
  },
  {
   "cell_type": "markdown",
   "metadata": {
    "colab_type": "text",
    "id": "3zR8-aK009p9"
   },
   "source": [
    "# Folder Paths"
   ]
  },
  {
   "cell_type": "code",
   "execution_count": 1,
   "metadata": {
    "colab": {},
    "colab_type": "code",
    "executionInfo": {
     "elapsed": 10768,
     "status": "ok",
     "timestamp": 1594555483006,
     "user": {
      "displayName": "Lahiru Senevirathne",
      "photoUrl": "https://lh3.googleusercontent.com/a-/AOh14GiRzF3KfxeuLmDoDB90oNXQ5_ivLn8-Ar4kecdc=s64",
      "userId": "12627549003426465017"
     },
     "user_tz": -330
    },
    "id": "2DEOa06miLE5"
   },
   "outputs": [],
   "source": [
    "colab = False"
   ]
  },
  {
   "cell_type": "code",
   "execution_count": 2,
   "metadata": {
    "colab": {},
    "colab_type": "code",
    "executionInfo": {
     "elapsed": 10746,
     "status": "ok",
     "timestamp": 1594555483009,
     "user": {
      "displayName": "Lahiru Senevirathne",
      "photoUrl": "https://lh3.googleusercontent.com/a-/AOh14GiRzF3KfxeuLmDoDB90oNXQ5_ivLn8-Ar4kecdc=s64",
      "userId": "12627549003426465017"
     },
     "user_tz": -330
    },
    "id": "gWPD3dgEqB5d"
   },
   "outputs": [],
   "source": [
    "folder_path = \"../../../\"\n",
    "if (colab):\n",
    "    folder_path =  '/content/drive/My Drive/University/FYP/Sentiment Analysis/Implementation/'\n",
    "lankadeepa_data_path = folder_path + 'corpus/new/preprocess_from_isuru/lankadeepa_tagged_comments.csv'\n",
    "gossip_lanka_data_path = folder_path + 'corpus/new/preprocess_from_unicode_values/gossip_lanka_tagged_comments.csv'\n",
    "embedding_size = 300\n",
    "embedding_type = 'fasttext'\n",
    "embedding_type1 = 'fasttext'\n",
    "context = 5\n",
    "word_embedding_path = folder_path + \"word_embedding/\"+embedding_type+\"/source2_data_from_gosspiLanka_and_lankadeepa/\"+str(embedding_size)+\"/\"+embedding_type1+\"_\"+str(embedding_size)+\"_\"+str(context)\n",
    "word_embedding_keydvectors_path = folder_path + \"word_embedding/\"+embedding_type+\"/source2_data_from_gosspiLanka_and_lankadeepa/\"+str(embedding_size)+\"/keyed_vectors/keyed.kv\"\n",
    "embedding_matrix_path = folder_path + 'Sentiment Analysis/CNN RNN/embedding_matrix/'+embedding_type+'_lankadeepa_gossiplanka_'+str(embedding_size)+'_'+str(context)\n"
   ]
  },
  {
   "cell_type": "code",
   "execution_count": 3,
   "metadata": {
    "colab": {},
    "colab_type": "code",
    "executionInfo": {
     "elapsed": 11894,
     "status": "ok",
     "timestamp": 1594556786523,
     "user": {
      "displayName": "Lahiru Senevirathne",
      "photoUrl": "https://lh3.googleusercontent.com/a-/AOh14GiRzF3KfxeuLmDoDB90oNXQ5_ivLn8-Ar4kecdc=s64",
      "userId": "12627549003426465017"
     },
     "user_tz": -330
    },
    "id": "e5mAlQD5-2U4"
   },
   "outputs": [],
   "source": [
    "experiment_no = 1\n",
    "experiment_name = folder_path + \"Sentiment Analysis/CNN RNN/experiments/\" + \"GRU_\"+str(experiment_no)+\"_\"+embedding_type+\"_\"+str(embedding_size)+\"_\"+str(context)\n"
   ]
  },
  {
   "cell_type": "markdown",
   "metadata": {
    "colab_type": "text",
    "id": "0BYvE-D5QAc0"
   },
   "source": [
    "# Imports Statements"
   ]
  },
  {
   "cell_type": "code",
   "execution_count": 4,
   "metadata": {
    "colab": {
     "base_uri": "https://localhost:8080/",
     "height": 54
    },
    "colab_type": "code",
    "executionInfo": {
     "elapsed": 10725,
     "status": "ok",
     "timestamp": 1594555483010,
     "user": {
      "displayName": "Lahiru Senevirathne",
      "photoUrl": "https://lh3.googleusercontent.com/a-/AOh14GiRzF3KfxeuLmDoDB90oNXQ5_ivLn8-Ar4kecdc=s64",
      "userId": "12627549003426465017"
     },
     "user_tz": -330
    },
    "id": "gZ9YDtD6qn4t",
    "outputId": "caa572e4-ad7c-4211-c450-5812629d5b6f"
   },
   "outputs": [
    {
     "name": "stderr",
     "output_type": "stream",
     "text": [
      "Using TensorFlow backend.\n"
     ]
    }
   ],
   "source": [
    "from __future__ import print_function\n",
    "if (colab):\n",
    "  from google.colab import drive\n",
    "  drive.mount('/content/drive')\n",
    "\n",
    "import collections\n",
    "import pickle\n",
    "import re\n",
    "import random\n",
    "import sys\n",
    "import os \n",
    "import time\n",
    "\n",
    "import gensim\n",
    "from gensim.models.keyedvectors import KeyedVectors\n",
    "from gensim.models.fasttext import FastText\n",
    "from gensim.models import word2vec\n",
    "\n",
    "from sklearn.model_selection import train_test_split,cross_val_score, cross_val_predict, KFold\n",
    "from sklearn.metrics import accuracy_score, f1_score, precision_score, recall_score, classification_report, confusion_matrix,precision_recall_fscore_support\n",
    "\n",
    "import pandas as pd\n",
    "import numpy as np\n",
    "from numpy import array\n",
    "from numpy import asarray\n",
    "from numpy import zeros\n",
    "from numpy import cumsum\n",
    "\n",
    "import keras\n",
    "from keras.models import Sequential,Model\n",
    "from keras.preprocessing.text import Tokenizer\n",
    "from keras.preprocessing.sequence import pad_sequences\n",
    "from keras.layers import Dropout, Activation, Flatten, \\\n",
    "    Embedding, Convolution1D, MaxPooling1D, AveragePooling1D, \\\n",
    "    Input, Dense, merge, Add,TimeDistributed, Bidirectional,SpatialDropout1D\n",
    "from keras.layers.recurrent import LSTM, GRU, SimpleRNN\n",
    "from keras.regularizers import l2, l1_l2\n",
    "from keras.constraints import maxnorm\n",
    "from keras import callbacks\n",
    "from keras.utils import generic_utils\n",
    "from keras.optimizers import Adadelta\n",
    "\n",
    "import matplotlib.image  as mpimg\n",
    "import matplotlib.pyplot as plt"
   ]
  },
  {
   "cell_type": "markdown",
   "metadata": {
    "colab_type": "text",
    "id": "xXiAlHRZ7X_p"
   },
   "source": [
    "# Load Data"
   ]
  },
  {
   "cell_type": "code",
   "execution_count": 5,
   "metadata": {
    "colab": {},
    "colab_type": "code",
    "executionInfo": {
     "elapsed": 10708,
     "status": "ok",
     "timestamp": 1594555483012,
     "user": {
      "displayName": "Lahiru Senevirathne",
      "photoUrl": "https://lh3.googleusercontent.com/a-/AOh14GiRzF3KfxeuLmDoDB90oNXQ5_ivLn8-Ar4kecdc=s64",
      "userId": "12627549003426465017"
     },
     "user_tz": -330
    },
    "id": "GqqHP9rwpbdt"
   },
   "outputs": [],
   "source": [
    "lankadeepa_data = pd.read_csv(lankadeepa_data_path)[:9059]\n",
    "gossipLanka_data = pd.read_csv(gossip_lanka_data_path)\n",
    "gossipLanka_data = gossipLanka_data.drop(columns=['Unnamed: 3'])"
   ]
  },
  {
   "cell_type": "code",
   "execution_count": 6,
   "metadata": {
    "colab": {},
    "colab_type": "code",
    "executionInfo": {
     "elapsed": 10630,
     "status": "ok",
     "timestamp": 1594555483014,
     "user": {
      "displayName": "Lahiru Senevirathne",
      "photoUrl": "https://lh3.googleusercontent.com/a-/AOh14GiRzF3KfxeuLmDoDB90oNXQ5_ivLn8-Ar4kecdc=s64",
      "userId": "12627549003426465017"
     },
     "user_tz": -330
    },
    "id": "qm-gaV94U4Ob"
   },
   "outputs": [],
   "source": [
    "all_data = pd.concat([lankadeepa_data,gossipLanka_data])"
   ]
  },
  {
   "cell_type": "code",
   "execution_count": 7,
   "metadata": {
    "colab": {
     "base_uri": "https://localhost:8080/",
     "height": 102
    },
    "colab_type": "code",
    "executionInfo": {
     "elapsed": 10613,
     "status": "ok",
     "timestamp": 1594555483015,
     "user": {
      "displayName": "Lahiru Senevirathne",
      "photoUrl": "https://lh3.googleusercontent.com/a-/AOh14GiRzF3KfxeuLmDoDB90oNXQ5_ivLn8-Ar4kecdc=s64",
      "userId": "12627549003426465017"
     },
     "user_tz": -330
    },
    "id": "Kxm16KdZVIWo",
    "outputId": "c74a5652-f760-4446-bbee-1169e9ece16d"
   },
   "outputs": [
    {
     "data": {
      "text/plain": [
       "2    7665\n",
       "4    3080\n",
       "3    2403\n",
       "5    1911\n",
       "Name: label, dtype: int64"
      ]
     },
     "execution_count": 7,
     "metadata": {},
     "output_type": "execute_result"
    }
   ],
   "source": [
    "all_data['label'].value_counts()"
   ]
  },
  {
   "cell_type": "markdown",
   "metadata": {
    "colab_type": "text",
    "id": "Shq4w6GcqbIq"
   },
   "source": [
    "# preprocess Data"
   ]
  },
  {
   "cell_type": "markdown",
   "metadata": {
    "colab_type": "text",
    "id": "IHqkf0XG8dqL"
   },
   "source": [
    "## Preprocessing 1"
   ]
  },
  {
   "cell_type": "code",
   "execution_count": 8,
   "metadata": {
    "colab": {},
    "colab_type": "code",
    "executionInfo": {
     "elapsed": 10565,
     "status": "ok",
     "timestamp": 1594555483016,
     "user": {
      "displayName": "Lahiru Senevirathne",
      "photoUrl": "https://lh3.googleusercontent.com/a-/AOh14GiRzF3KfxeuLmDoDB90oNXQ5_ivLn8-Ar4kecdc=s64",
      "userId": "12627549003426465017"
     },
     "user_tz": -330
    },
    "id": "y9ynks11qZ-e"
   },
   "outputs": [],
   "source": [
    "# edit this later \n",
    "def text_preprocessing(train_data,test_data):\n",
    "  train_data_texts = train_data['comment']\n",
    "  train_data_labels = train_data['label']\n",
    "  test_data_texts = test_data['comment']\n",
    "  test_data_labels = test_data['label']\n",
    "\n",
    "\n",
    "  comment_texts = []\n",
    "  comment_labels = []\n",
    "\n",
    "  train_text = []\n",
    "  test_text = []\n",
    "  train_labels=[]\n",
    "  test_labels=[]\n",
    "\n",
    "  for label in train_data_labels:\n",
    "    if label == \"POSITIVE\":\n",
    "      train_labels.append(1)\n",
    "    else:\n",
    "      train_labels.append(0)\n",
    "  comment_labels.append(train_labels)\n",
    "\n",
    "  for label in test_data_labels:\n",
    "    if label == \"POSITIVE\":\n",
    "      test_labels.append(1)\n",
    "    else:\n",
    "      test_labels.append(0)\n",
    "  comment_labels.append(test_labels)\n",
    "  \n",
    "\n",
    "  for comment in train_data_texts:\n",
    "    lines = []\n",
    "    try:\n",
    "      words = comment.split()\n",
    "      lines += words\n",
    "    except:\n",
    "      continue\n",
    "    train_text.append(lines)\n",
    "  comment_texts.append(train_text)\n",
    "\n",
    "  for comment in test_data_texts:\n",
    "    lines = []\n",
    "    try:\n",
    "      words = comment.split()\n",
    "      lines += words\n",
    "    except:\n",
    "      continue\n",
    "    test_text.append(lines)\n",
    "  comment_texts.append(test_text)\n",
    "\n",
    "\n",
    "  return comment_texts,comment_labels\n",
    "\n",
    "# edit this later \n",
    "def text_preprocessing_1(data):\n",
    "  comments = data['comment']\n",
    "  labels = data['label']\n",
    "\n",
    "  comments_splitted = []\n",
    "  labels_encoded = []\n",
    "\n",
    "  for label in labels:\n",
    "    if label == \"POSITIVE\":\n",
    "      labels_encoded.append(1)\n",
    "    else:\n",
    "      labels_encoded.append(0)\n",
    "\n",
    "  for comment in comments:\n",
    "    lines = []\n",
    "    try:\n",
    "      words = comment.split()\n",
    "      lines += words\n",
    "    except:\n",
    "      continue\n",
    "    comments_splitted.append(lines)\n",
    "  return comments_splitted,labels_encoded\n",
    "\n",
    "\n",
    "def text_preprocessing_2(data):\n",
    "  comments = data['comment']\n",
    "  labels = data['label']\n",
    "\n",
    "  comments_splitted = []\n",
    "\n",
    "  for comment in comments:\n",
    "    lines = []\n",
    "    try:\n",
    "      words = comment.split()\n",
    "      lines += words\n",
    "    except:\n",
    "      continue\n",
    "    comments_splitted.append(lines)\n",
    "\n",
    "  return comments_splitted,labels"
   ]
  },
  {
   "cell_type": "markdown",
   "metadata": {
    "colab_type": "text",
    "id": "LdKgzrbd8Uy8"
   },
   "source": [
    "## Preprocessing 2"
   ]
  },
  {
   "cell_type": "code",
   "execution_count": 9,
   "metadata": {
    "colab": {
     "base_uri": "https://localhost:8080/",
     "height": 34
    },
    "colab_type": "code",
    "executionInfo": {
     "elapsed": 10530,
     "status": "ok",
     "timestamp": 1594555483017,
     "user": {
      "displayName": "Lahiru Senevirathne",
      "photoUrl": "https://lh3.googleusercontent.com/a-/AOh14GiRzF3KfxeuLmDoDB90oNXQ5_ivLn8-Ar4kecdc=s64",
      "userId": "12627549003426465017"
     },
     "user_tz": -330
    },
    "id": "BZoOqtodrUY1",
    "outputId": "9f11a96f-9dff-49e0-ab61-b5bef719e9bc"
   },
   "outputs": [
    {
     "name": "stdout",
     "output_type": "stream",
     "text": [
      "60316\n"
     ]
    }
   ],
   "source": [
    "comment_texts, comment_labels = text_preprocessing_2(all_data)\n",
    "\n",
    "# prepare tokenizer\n",
    "\n",
    "t = Tokenizer()\n",
    "t.fit_on_texts(comment_texts)\n",
    "vocab_size = len(t.word_index) + 1\n",
    "print(vocab_size)"
   ]
  },
  {
   "cell_type": "code",
   "execution_count": 10,
   "metadata": {
    "colab": {
     "base_uri": "https://localhost:8080/",
     "height": 54
    },
    "colab_type": "code",
    "executionInfo": {
     "elapsed": 10472,
     "status": "ok",
     "timestamp": 1594555483018,
     "user": {
      "displayName": "Lahiru Senevirathne",
      "photoUrl": "https://lh3.googleusercontent.com/a-/AOh14GiRzF3KfxeuLmDoDB90oNXQ5_ivLn8-Ar4kecdc=s64",
      "userId": "12627549003426465017"
     },
     "user_tz": -330
    },
    "id": "UMhZbzGur4kt",
    "outputId": "461aef72-6b73-41bb-bc95-2479d9532c72"
   },
   "outputs": [],
   "source": [
    "encoded_docs = t.texts_to_sequences(comment_texts)"
   ]
  },
  {
   "cell_type": "code",
   "execution_count": 11,
   "metadata": {
    "colab": {
     "base_uri": "https://localhost:8080/",
     "height": 136
    },
    "colab_type": "code",
    "executionInfo": {
     "elapsed": 10426,
     "status": "ok",
     "timestamp": 1594555483019,
     "user": {
      "displayName": "Lahiru Senevirathne",
      "photoUrl": "https://lh3.googleusercontent.com/a-/AOh14GiRzF3KfxeuLmDoDB90oNXQ5_ivLn8-Ar4kecdc=s64",
      "userId": "12627549003426465017"
     },
     "user_tz": -330
    },
    "id": "Ho5NTzHtsKoN",
    "outputId": "d3ca1d8a-b5e0-4046-fa92-23f3ad992b27"
   },
   "outputs": [],
   "source": [
    "max_length = len(max(encoded_docs, key=len))\n",
    "padded_docs = pad_sequences(encoded_docs, maxlen=max_length)\n",
    "\n",
    "comment_labels = np.array(comment_labels)\n",
    "padded_docs = np.array(padded_docs)"
   ]
  },
  {
   "cell_type": "code",
   "execution_count": 12,
   "metadata": {
    "colab": {
     "base_uri": "https://localhost:8080/",
     "height": 34
    },
    "colab_type": "code",
    "executionInfo": {
     "elapsed": 10378,
     "status": "ok",
     "timestamp": 1594555483020,
     "user": {
      "displayName": "Lahiru Senevirathne",
      "photoUrl": "https://lh3.googleusercontent.com/a-/AOh14GiRzF3KfxeuLmDoDB90oNXQ5_ivLn8-Ar4kecdc=s64",
      "userId": "12627549003426465017"
     },
     "user_tz": -330
    },
    "id": "gBRINFtdvEQS",
    "outputId": "86cf0d77-d73c-4991-ec12-b1b8f32c47d0"
   },
   "outputs": [
    {
     "name": "stdout",
     "output_type": "stream",
     "text": [
      "Shape of label tensor: (15059, 4)\n"
     ]
    }
   ],
   "source": [
    "comment_labels = pd.get_dummies(comment_labels).values\n",
    "print('Shape of label tensor:', comment_labels.shape)"
   ]
  },
  {
   "cell_type": "code",
   "execution_count": 13,
   "metadata": {
    "colab": {},
    "colab_type": "code",
    "executionInfo": {
     "elapsed": 10359,
     "status": "ok",
     "timestamp": 1594555483021,
     "user": {
      "displayName": "Lahiru Senevirathne",
      "photoUrl": "https://lh3.googleusercontent.com/a-/AOh14GiRzF3KfxeuLmDoDB90oNXQ5_ivLn8-Ar4kecdc=s64",
      "userId": "12627549003426465017"
     },
     "user_tz": -330
    },
    "id": "Drgv_J0ZUV8j"
   },
   "outputs": [],
   "source": [
    "\n",
    "X_train, X_test, y_train, y_test = train_test_split(padded_docs, comment_labels, test_size=0.2, random_state=0)\n"
   ]
  },
  {
   "cell_type": "markdown",
   "metadata": {
    "colab_type": "text",
    "id": "91fqgdk67oaZ"
   },
   "source": [
    "# Word Embedding"
   ]
  },
  {
   "cell_type": "markdown",
   "metadata": {
    "colab_type": "text",
    "id": "sPm_9b6Y8EPi"
   },
   "source": [
    "## Generate Embedding Metrix"
   ]
  },
  {
   "cell_type": "code",
   "execution_count": 14,
   "metadata": {
    "colab": {},
    "colab_type": "code",
    "executionInfo": {
     "elapsed": 10344,
     "status": "ok",
     "timestamp": 1594555483023,
     "user": {
      "displayName": "Lahiru Senevirathne",
      "photoUrl": "https://lh3.googleusercontent.com/a-/AOh14GiRzF3KfxeuLmDoDB90oNXQ5_ivLn8-Ar4kecdc=s64",
      "userId": "12627549003426465017"
     },
     "user_tz": -330
    },
    "id": "kOB0YKL-fNW5"
   },
   "outputs": [],
   "source": [
    "def generate_embedding_metrix():\n",
    "  if (embedding_type == 'fasttext'):\n",
    "    word_embedding_model = FastText.load(word_embedding_path)\n",
    "  else:\n",
    "    word_embedding_model = word2vec.Word2Vec.load(word_embedding_path)\n",
    "    \n",
    "  word_vectors = word_embedding_model.wv\n",
    "  word_vectors.save(word_embedding_keydvectors_path)\n",
    "  word_vectors = KeyedVectors.load(word_embedding_keydvectors_path, mmap='r')\n",
    "\n",
    "  embeddings_index = dict()\n",
    "  for word, vocab_obj in word_vectors.vocab.items():\n",
    "    embeddings_index[word]=word_vectors[word]\n",
    "\n",
    "  # create a weight matrix for words in training docs\n",
    "  embedding_matrix = zeros((vocab_size, embedding_size))\n",
    "  for word, i in t.word_index.items():\n",
    "    embedding_vector = embeddings_index.get(word)\n",
    "    if embedding_vector is not None:\n",
    "      embedding_matrix[i] = embedding_vector\n",
    "\n",
    "  pickle.dump(embedding_matrix, open(embedding_matrix_path, 'wb'))\n",
    "  return embedding_matrix"
   ]
  },
  {
   "cell_type": "markdown",
   "metadata": {
    "colab_type": "text",
    "id": "wVYEOwiN8H3s"
   },
   "source": [
    "## Load Embedding Matrix"
   ]
  },
  {
   "cell_type": "code",
   "execution_count": 15,
   "metadata": {
    "colab": {},
    "colab_type": "code",
    "executionInfo": {
     "elapsed": 10320,
     "status": "ok",
     "timestamp": 1594555483024,
     "user": {
      "displayName": "Lahiru Senevirathne",
      "photoUrl": "https://lh3.googleusercontent.com/a-/AOh14GiRzF3KfxeuLmDoDB90oNXQ5_ivLn8-Ar4kecdc=s64",
      "userId": "12627549003426465017"
     },
     "user_tz": -330
    },
    "id": "YNSwoRM292-u"
   },
   "outputs": [],
   "source": [
    "def load_word_embedding_atrix():\n",
    "  f = open(embedding_matrix_path, 'rb')\n",
    "  embedding_matrix= np.array(pickle.load(f))\n",
    "  return embedding_matrix"
   ]
  },
  {
   "cell_type": "markdown",
   "metadata": {
    "colab_type": "text",
    "id": "lrmGuYXf82E_"
   },
   "source": [
    "# Models"
   ]
  },
  {
   "cell_type": "markdown",
   "metadata": {
    "colab_type": "text",
    "id": "hx80tScO_ddi"
   },
   "source": [
    "## RNN(LSTM/GRU) model"
   ]
  },
  {
   "cell_type": "code",
   "execution_count": 16,
   "metadata": {
    "colab": {},
    "colab_type": "code",
    "executionInfo": {
     "elapsed": 10284,
     "status": "ok",
     "timestamp": 1594555483025,
     "user": {
      "displayName": "Lahiru Senevirathne",
      "photoUrl": "https://lh3.googleusercontent.com/a-/AOh14GiRzF3KfxeuLmDoDB90oNXQ5_ivLn8-Ar4kecdc=s64",
      "userId": "12627549003426465017"
     },
     "user_tz": -330
    },
    "id": "K9elMDrR_laX"
   },
   "outputs": [],
   "source": [
    "def build_RNN_model():\n",
    "    main_input = Input(shape=(maxlen, ), dtype='int32', name='main_input')\n",
    "    embedding  = Embedding(max_features, embedding_dims,\n",
    "                  weights=[embedding_matrix], input_length=maxlen,\n",
    "                  name='embedding' ,trainable=False)(main_input)\n",
    "\n",
    "    embedding = Dropout(0.50)(embedding)\n",
    "\n",
    "    x = RNN(rnn_output_size)(embedding)\n",
    "\n",
    "    x = Dense(hidden_dims, activation='relu', init='he_normal',\n",
    "              W_constraint = maxnorm(3), b_constraint=maxnorm(3),\n",
    "              name='mlp')(x)\n",
    "\n",
    "    x = Dropout(0.10, name='drop')(x)\n",
    "\n",
    "    output = Dense(6, init='he_normal',\n",
    "                   activation='softmax', name='output')(x)\n",
    "\n",
    "    model = Model(input=main_input, output=output)\n",
    "    model.compile(loss={'output':'sparse_categorical_crossentropy'},\n",
    "                optimizer=Adadelta(lr=0.95, epsilon=1e-06),\n",
    "                metrics=[\"accuracy\"])\n",
    "    print(model.summary())\n",
    "    return model\n",
    "\n",
    "def build_RNN_model_new():\n",
    "    main_input = Input(shape=(maxlen, ), dtype='int32', name='main_input')\n",
    "    embedding  = Embedding(max_features, embedding_dims,\n",
    "                  weights=[embedding_matrix], input_length=maxlen,\n",
    "                  name='embedding' ,trainable=False)(main_input)\n",
    "\n",
    "    embedding = Dropout(0.50)(embedding)\n",
    "\n",
    "    x = RNN(rnn_output_size)(embedding)\n",
    "\n",
    "    x = Dense(hidden_dims, activation='relu', init='he_normal',\n",
    "              W_constraint = maxnorm(3), b_constraint=maxnorm(3),\n",
    "              name='mlp')(x)\n",
    "\n",
    "    x = Dropout(0.10, name='drop')(x)\n",
    "\n",
    "    output = Dense(4, init='he_normal',\n",
    "                   activation='softmax', name='output')(x)\n",
    "\n",
    "    model = Model(input=main_input, output=output)\n",
    "    model.compile(loss={'output':'categorical_crossentropy'},\n",
    "                optimizer=Adadelta(lr=0.95, epsilon=1e-06),\n",
    "                metrics=[\"accuracy\"])\n",
    "    print(model.summary())\n",
    "    return model"
   ]
  },
  {
   "cell_type": "markdown",
   "metadata": {
    "colab_type": "text",
    "id": "Pt3TZsP84gRK"
   },
   "source": [
    "## CNN+RNN(LSTM /GRU) model "
   ]
  },
  {
   "cell_type": "code",
   "execution_count": 17,
   "metadata": {
    "colab": {},
    "colab_type": "code",
    "executionInfo": {
     "elapsed": 10269,
     "status": "ok",
     "timestamp": 1594555483026,
     "user": {
      "displayName": "Lahiru Senevirathne",
      "photoUrl": "https://lh3.googleusercontent.com/a-/AOh14GiRzF3KfxeuLmDoDB90oNXQ5_ivLn8-Ar4kecdc=s64",
      "userId": "12627549003426465017"
     },
     "user_tz": -330
    },
    "id": "m3v2boPz4frA"
   },
   "outputs": [],
   "source": [
    "def build_CNN_RNN_model():\n",
    "    main_input = Input(shape=(maxlen, ), dtype='int32', name='main_input')\n",
    "    embedding  = Embedding(max_features, embedding_dims,\n",
    "                  weights=[embedding_matrix], input_length=maxlen,\n",
    "                  name='embedding' ,trainable=False)(main_input)\n",
    "\n",
    "    embedding = Dropout(0.50)(embedding)\n",
    "\n",
    "    conv4 = Convolution1D(nb_filter=nb_filter,\n",
    "                          filter_length=4,\n",
    "                          border_mode='valid',\n",
    "                          activation='relu',\n",
    "                          subsample_length=1,\n",
    "                          name='conv4')(embedding)\n",
    "    maxConv4 = MaxPooling1D(pool_length=2,\n",
    "                             name='maxConv4')(conv4)\n",
    "\n",
    "    conv5 = Convolution1D(nb_filter=nb_filter,\n",
    "                          filter_length=5,\n",
    "                          border_mode='valid',\n",
    "                          activation='relu',\n",
    "                          subsample_length=1,\n",
    "                          name='conv5')(embedding)\n",
    "    maxConv5 = MaxPooling1D(pool_length=2,\n",
    "                            name='maxConv5')(conv5)\n",
    "\n",
    "    x = keras.layers.Concatenate(axis=1)([maxConv4, maxConv5])\n",
    "\n",
    "    x = Dropout(0.15)(x)\n",
    "\n",
    "    x = RNN(rnn_output_size)(x)\n",
    "\n",
    "\n",
    "    x = Dense(hidden_dims, activation='relu', init='he_normal',\n",
    "              W_constraint = maxnorm(3), b_constraint=maxnorm(3),\n",
    "              name='mlp')(x)\n",
    "\n",
    "    x = Dropout(0.10, name='drop')(x)\n",
    "\n",
    "    output = Dense(1, init='he_normal',\n",
    "                   activation='sigmoid', name='output')(x)\n",
    "\n",
    "    model = Model(input=main_input, output=output)\n",
    "    model.compile(loss={'output':'binary_crossentropy'},\n",
    "                optimizer=Adadelta(lr=0.95, epsilon=1e-06),\n",
    "                metrics=[\"accuracy\"])\n",
    "    return model"
   ]
  },
  {
   "cell_type": "markdown",
   "metadata": {
    "colab_type": "text",
    "id": "k7QWHo7RBFYw"
   },
   "source": [
    "## CNN+BiLSTM"
   ]
  },
  {
   "cell_type": "code",
   "execution_count": 18,
   "metadata": {
    "colab": {},
    "colab_type": "code",
    "executionInfo": {
     "elapsed": 10254,
     "status": "ok",
     "timestamp": 1594555483027,
     "user": {
      "displayName": "Lahiru Senevirathne",
      "photoUrl": "https://lh3.googleusercontent.com/a-/AOh14GiRzF3KfxeuLmDoDB90oNXQ5_ivLn8-Ar4kecdc=s64",
      "userId": "12627549003426465017"
     },
     "user_tz": -330
    },
    "id": "W3yWVn8nB2Q6"
   },
   "outputs": [],
   "source": [
    "def build_CNN_BiLSTM():\n",
    "  # main model\n",
    "  input = Input(shape=(maxlen,))\n",
    "  embedding = Embedding(max_features,300,weights=[embedding_matrix],input_length=maxlen)(input)\n",
    "\n",
    "  conv4 = Convolution1D(nb_filter=nb_filter,\n",
    "                          filter_length=4,\n",
    "                          border_mode='valid',\n",
    "                          activation='relu',\n",
    "                          subsample_length=1,\n",
    "                          name='conv4')(embedding)\n",
    "  maxConv4 = MaxPooling1D(pool_length=2,\n",
    "                             name='maxConv4')(conv4)\n",
    "\n",
    "  conv5 = Convolution1D(nb_filter=nb_filter,\n",
    "                          filter_length=5,\n",
    "                          border_mode='valid',\n",
    "                          activation='relu',\n",
    "                          subsample_length=1,\n",
    "                          name='conv5')(embedding)\n",
    "  maxConv5 = MaxPooling1D(pool_length=2,\n",
    "                            name='maxConv5')(conv5)\n",
    "\n",
    "\n",
    "  x = keras.layers.Concatenate(axis=1)([maxConv4, maxConv5])\n",
    "\n",
    "  x = Dropout(0.15)(x)\n",
    "\n",
    "  model =  Bidirectional (LSTM (300,return_sequences=True,dropout=0.8),merge_mode='concat')(x)\n",
    "  model = TimeDistributed(Dense(300,activation='relu'))(model)\n",
    "  model = Flatten()(model)\n",
    "  model = Dense(300,activation='relu')(model)\n",
    "  output = Dense(2,activation='softmax')(model)\n",
    "  model = Model(input,output)\n",
    "  model.compile(loss='sparse_categorical_crossentropy',optimizer='adam', metrics=['accuracy'])\n",
    "  return model\n"
   ]
  },
  {
   "cell_type": "markdown",
   "metadata": {
    "colab_type": "text",
    "id": "P5nll2IhjLhr"
   },
   "source": [
    "## BiLSTM "
   ]
  },
  {
   "cell_type": "code",
   "execution_count": 19,
   "metadata": {
    "colab": {},
    "colab_type": "code",
    "executionInfo": {
     "elapsed": 10234,
     "status": "ok",
     "timestamp": 1594555483028,
     "user": {
      "displayName": "Lahiru Senevirathne",
      "photoUrl": "https://lh3.googleusercontent.com/a-/AOh14GiRzF3KfxeuLmDoDB90oNXQ5_ivLn8-Ar4kecdc=s64",
      "userId": "12627549003426465017"
     },
     "user_tz": -330
    },
    "id": "GMs9GE8Dlpiw"
   },
   "outputs": [],
   "source": [
    "def build_BiLSTM_1_1():\n",
    "  input = Input(shape=(maxlen,))\n",
    "  embedding = Embedding(max_features,embedding_dims,weights=[embedding_matrix],input_length=maxlen)(input)\n",
    "\n",
    "  model =  Bidirectional (LSTM (300,return_sequences=True,dropout=drop_out_value),merge_mode='concat')(embedding)\n",
    "  model = TimeDistributed(Dense(300,activation='relu'))(model)\n",
    "  model = Flatten()(model)\n",
    "  model = Dense(300,activation='relu')(model)\n",
    "  output = Dense(2,activation='softmax')(model)\n",
    "  model = Model(input,output)\n",
    "  model.compile(loss='sparse_categorical_crossentropy',optimizer='adam', metrics=['accuracy'])\n",
    "  return model\n",
    "\n",
    "# final model\n",
    "def build_BiLSTM_1_2():\n",
    "  input = Input(shape=(maxlen,))\n",
    "  embedding = Embedding(max_features,embedding_dims,weights=[embedding_matrix],input_length=maxlen)(input)\n",
    "\n",
    "  model =  Bidirectional (LSTM (300,return_sequences=True,dropout=drop_out_value,kernel_regularizer=l2(0.01)),merge_mode='concat')(embedding)\n",
    "  model = TimeDistributed(Dense(300,activation='relu'))(model)\n",
    "  model = Flatten()(model)\n",
    "  # model = Dense(300,activation='relu')(model)\n",
    "  output = Dense(1,activation='sigmoid')(model)\n",
    "  model = Model(input,output)\n",
    "  model.compile(loss='binary_crossentropy',optimizer='adam', metrics=['accuracy'])\n",
    "  return model\n",
    "\n",
    "def build_BiLSTM_1_3():\n",
    "  input = Input(shape=(maxlen,))\n",
    "  embedding = Embedding(max_features,embedding_dims,weights=[embedding_matrix],input_length=maxlen)(input)\n",
    "\n",
    "  model =  LSTM (512,return_sequences=True,dropout=drop_out_value,kernel_regularizer=l2(0.01))(embedding)\n",
    "  model = LSTM (256,return_sequences=True,dropout=drop_out_value,kernel_regularizer=l2(0.01))(model)\n",
    "  model = TimeDistributed(Dense(300,activation='relu'))(model)\n",
    "  model = Flatten()(model)\n",
    "  # model = Dense(300,activation='relu')(model)\n",
    "  output = Dense(1,activation='sigmoid')(model)\n",
    "  model = Model(input,output)\n",
    "  model.compile(loss='binary_crossentropy',optimizer='adam', metrics=['accuracy'])\n",
    "  return model\n",
    "\n",
    "# BiLSTM with dropout regularization\n",
    "def build_BiLSTM_2_1():\n",
    "  model = Sequential()\n",
    "  model.add(Embedding(max_features, embedding_dims, input_length=maxlen,weights=[embedding_matrix]))\n",
    "  model.add(Bidirectional(LSTM (300,dropout=drop_out_value),merge_mode='concat'))\n",
    "  # model.add(Dropout(drop_out_value))\n",
    "  model.add(Dense(1, activation='sigmoid'))\n",
    "\n",
    "  model.compile(optimizer='adam', loss='binary_crossentropy', metrics=['accuracy'])\n",
    "  return model\n",
    "\n",
    "# BiLSTM with l2 regularization\n",
    "def build_BiLSTM_2_2():\n",
    "  model = Sequential()\n",
    "  model.add(Embedding(max_features, embedding_dims, input_length=maxlen,weights=[embedding_matrix]))\n",
    "  model.add(Bidirectional(LSTM (300,kernel_regularizer=l2(0.01), recurrent_regularizer=l2(0.01), bias_regularizer=l2(0.01)),merge_mode='concat'))\n",
    "  model.add(Dropout(drop_out_value))\n",
    "  model.add(Dense(1, activation='sigmoid'))\n",
    "\n",
    "  model.compile(optimizer='adam', loss='binary_crossentropy', metrics=['accuracy'])\n",
    "  return model\n"
   ]
  },
  {
   "cell_type": "markdown",
   "metadata": {
    "colab_type": "text",
    "id": "WC0ZRhKe5a6C"
   },
   "source": [
    "# Train and Test"
   ]
  },
  {
   "cell_type": "code",
   "execution_count": 20,
   "metadata": {
    "colab": {},
    "colab_type": "code",
    "executionInfo": {
     "elapsed": 10218,
     "status": "ok",
     "timestamp": 1594555483029,
     "user": {
      "displayName": "Lahiru Senevirathne",
      "photoUrl": "https://lh3.googleusercontent.com/a-/AOh14GiRzF3KfxeuLmDoDB90oNXQ5_ivLn8-Ar4kecdc=s64",
      "userId": "12627549003426465017"
     },
     "user_tz": -330
    },
    "id": "LhOLwIC-5aiD"
   },
   "outputs": [],
   "source": [
    "def Train_Model(model,X_train, X_test, y_train, y_test):\n",
    "\n",
    "  print('Training and Testing...')\n",
    "  test_accs = []\n",
    "  first_run = True\n",
    "\n",
    "\n",
    "  acc=[]\n",
    "  val_acc=[]\n",
    "  loss=[]\n",
    "  val_loss=[]\n",
    "  best_val_acc = 0\n",
    "  best_test_acc = 0\n",
    "  for j in range(nb_epoch):\n",
    "      a = time.time()\n",
    "      his = model.fit(X_train, y_train,\n",
    "                      batch_size=batch_size,\n",
    "                      validation_data=[X_test, y_test],\n",
    "                      shuffle=True,\n",
    "                      epochs=1, verbose=verbosity)\n",
    "      acc+=his.history['accuracy']\n",
    "      val_acc+=his.history['val_accuracy']\n",
    "      loss+=his.history['loss']\n",
    "      val_loss+=his.history['val_loss']\n",
    "      # print('Epoch %d/%d\\t%s' % (j + 1, nb_epoch, str(his.history)))\n",
    "      if his.history['val_accuracy'][0] >= best_val_acc:\n",
    "          score, test_acc = model.evaluate(X_test, y_test,\n",
    "                                      batch_size=batch_size,\n",
    "                                      verbose=2)\n",
    "          best_val_acc = his.history['val_accuracy'][0]\n",
    "          best_test_acc = test_acc\n",
    "          print('Got best epoch  best val acc is %f test acc is %f' %\n",
    "                (best_val_acc, best_test_acc))\n",
    "          if len(test_accs) > 0:\n",
    "              print('Current avg test acc:', str(np.mean(test_accs)))\n",
    "      b = time.time()\n",
    "      cost = b - a\n",
    "      left = (nb_epoch - j - 1)\n",
    "      print('One round cost %ds, %d round %ds %dmin left' % (cost, left,\n",
    "                                                            cost * left,\n",
    "                                                            cost * left / 60.0))\n",
    "      test_accs.append(best_test_acc)\n",
    "\n",
    "  print('Avg test acc:', str(np.mean(test_accs)))\n",
    "  return model"
   ]
  },
  {
   "cell_type": "markdown",
   "metadata": {
    "colab_type": "text",
    "id": "u4DuyDZMkcE3"
   },
   "source": [
    "# Cross Validation"
   ]
  },
  {
   "cell_type": "code",
   "execution_count": 21,
   "metadata": {
    "colab": {},
    "colab_type": "code",
    "executionInfo": {
     "elapsed": 10185,
     "status": "ok",
     "timestamp": 1594555483031,
     "user": {
      "displayName": "Lahiru Senevirathne",
      "photoUrl": "https://lh3.googleusercontent.com/a-/AOh14GiRzF3KfxeuLmDoDB90oNXQ5_ivLn8-Ar4kecdc=s64",
      "userId": "12627549003426465017"
     },
     "user_tz": -330
    },
    "id": "4TMmqz8BkTQR"
   },
   "outputs": [],
   "source": [
    "def Do_Cross_Validation(model,X,y):\n",
    "\n",
    "  # Define per-fold score containers\n",
    "  acc_per_fold = []\n",
    "  loss_per_fold = []\n",
    "\n",
    "  kfold = KFold(n_splits=folds, shuffle=True)\n",
    "\n",
    "  fold_no = 1\n",
    "  inputs = X\n",
    "  targets = y\n",
    "  for train, test in kfold.split(inputs, targets):\n",
    "    model = model\n",
    "\n",
    "    # Generate a print\n",
    "    print('------------------------------------------------------------------------')\n",
    "    print(f'Training for fold {fold_no} ...')\n",
    "\n",
    "    # Fit data to model\n",
    "    his = model.fit(inputs[train], targets[train],\n",
    "                  batch_size=batch_size,\n",
    "                  shuffle=True,\n",
    "                  epochs=nb_epoch, \n",
    "                  verbose=verbosity,\n",
    "                  validation_split=validation_split)\n",
    "    \n",
    "    # Generate generalization metrics\n",
    "    scores = model.evaluate(inputs[test], targets[test], verbose=0)\n",
    "    print(f'Score for fold {fold_no}: {model.metrics_names[0]} of {scores[0]}; {model.metrics_names[1]} of {scores[1]*100}%')\n",
    "    acc_per_fold.append(scores[1] * 100)\n",
    "    loss_per_fold.append(scores[0])\n",
    "\n",
    "    # Increase fold number\n",
    "    fold_no = fold_no + 1\n",
    "\n",
    "  # == Provide average scores ==\n",
    "  print('------------------------------------------------------------------------')\n",
    "  print('Score per fold')\n",
    "  for i in range(0, len(acc_per_fold)):\n",
    "    print('------------------------------------------------------------------------')\n",
    "    print(f'> Fold {i+1} - Loss: {loss_per_fold[i]} - Accuracy: {acc_per_fold[i]}%')\n",
    "  print('------------------------------------------------------------------------')\n",
    "  print('Average scores for all folds:')\n",
    "  print(f'> Accuracy: {np.mean(acc_per_fold)} (+- {np.std(acc_per_fold)})')\n",
    "  print(f'> Loss: {np.mean(loss_per_fold)}')\n",
    "  print('------------------------------------------------------------------------')"
   ]
  },
  {
   "cell_type": "markdown",
   "metadata": {
    "colab_type": "text",
    "id": "B6CXqtIDR4jS"
   },
   "source": [
    "# Plot Graphs"
   ]
  },
  {
   "cell_type": "code",
   "execution_count": 22,
   "metadata": {
    "colab": {},
    "colab_type": "code",
    "executionInfo": {
     "elapsed": 10156,
     "status": "ok",
     "timestamp": 1594555483032,
     "user": {
      "displayName": "Lahiru Senevirathne",
      "photoUrl": "https://lh3.googleusercontent.com/a-/AOh14GiRzF3KfxeuLmDoDB90oNXQ5_ivLn8-Ar4kecdc=s64",
      "userId": "12627549003426465017"
     },
     "user_tz": -330
    },
    "id": "fvl487sr8seD"
   },
   "outputs": [],
   "source": [
    "def Plot_graphs():\n",
    "\n",
    "  epochs=range(len(acc)) # Get number of epochs\n",
    "\n",
    "  #------------------------------------------------\n",
    "  # Plot training and validation accuracy per epoch\n",
    "  #------------------------------------------------\n",
    "  plt.plot(epochs, acc, 'r')\n",
    "  plt.plot(epochs, val_acc, 'b')\n",
    "  plt.title('Training and validation accuracy')\n",
    "  plt.xlabel(\"Epochs\")\n",
    "  plt.ylabel(\"Accuracy\")\n",
    "  plt.legend([\"Accuracy\", \"Validation Accuracy\"])\n",
    "\n",
    "  plt.figure()\n",
    "\n",
    "  #------------------------------------------------\n",
    "  # Plot training and validation loss per epoch\n",
    "  #------------------------------------------------\n",
    "  plt.plot(epochs, loss, 'r')\n",
    "  plt.plot(epochs, val_loss, 'b')\n",
    "  plt.title('Training and validation loss')\n",
    "  plt.xlabel(\"Epochs\")\n",
    "  plt.ylabel(\"Loss\")\n",
    "  plt.legend([\"Loss\", \"Validation Loss\"])\n",
    "\n",
    "  plt.figure()\n",
    "\n",
    "\n",
    "  # Expected Output\n",
    "  # A chart where the validation loss does not increase sharply!"
   ]
  },
  {
   "cell_type": "markdown",
   "metadata": {
    "colab_type": "text",
    "id": "0RS6GyZ8-mk7"
   },
   "source": [
    "# Main"
   ]
  },
  {
   "cell_type": "code",
   "execution_count": 23,
   "metadata": {
    "colab": {},
    "colab_type": "code",
    "executionInfo": {
     "elapsed": 12889,
     "status": "ok",
     "timestamp": 1594555485792,
     "user": {
      "displayName": "Lahiru Senevirathne",
      "photoUrl": "https://lh3.googleusercontent.com/a-/AOh14GiRzF3KfxeuLmDoDB90oNXQ5_ivLn8-Ar4kecdc=s64",
      "userId": "12627549003426465017"
     },
     "user_tz": -330
    },
    "id": "85wsS8Mn8oeI"
   },
   "outputs": [],
   "source": [
    "# embedding_matrix = generate_embedding_metrix()\n",
    "embedding_matrix = load_word_embedding_atrix()"
   ]
  },
  {
   "cell_type": "code",
   "execution_count": 24,
   "metadata": {
    "colab": {},
    "colab_type": "code",
    "executionInfo": {
     "elapsed": 12870,
     "status": "ok",
     "timestamp": 1594555485794,
     "user": {
      "displayName": "Lahiru Senevirathne",
      "photoUrl": "https://lh3.googleusercontent.com/a-/AOh14GiRzF3KfxeuLmDoDB90oNXQ5_ivLn8-Ar4kecdc=s64",
      "userId": "12627549003426465017"
     },
     "user_tz": -330
    },
    "id": "uueiXUkkWuKl"
   },
   "outputs": [],
   "source": [
    "batch_size = 32 # 64, 128\n",
    "nb_filter = 200\n",
    "filter_length = 4 # test with 2,3,4,5\n",
    "hidden_dims = nb_filter * 2\n",
    "nb_epoch = 15\n",
    "RNN = GRU\n",
    "rnn_output_size = embedding_size \n",
    "folds = 3\n",
    "maxlen = 210 #test with other values\n",
    "max_features = embedding_matrix.shape[0] #vocab_size\n",
    "embedding_dims = embedding_size\n",
    "drop_out_value = 0.5 #0.8 #0.3\n",
    "verbosity = 1\n",
    "validation_split = 0.2"
   ]
  },
  {
   "cell_type": "code",
   "execution_count": 25,
   "metadata": {
    "colab": {
     "base_uri": "https://localhost:8080/",
     "height": 479
    },
    "colab_type": "code",
    "executionInfo": {
     "elapsed": 12852,
     "status": "ok",
     "timestamp": 1594555485795,
     "user": {
      "displayName": "Lahiru Senevirathne",
      "photoUrl": "https://lh3.googleusercontent.com/a-/AOh14GiRzF3KfxeuLmDoDB90oNXQ5_ivLn8-Ar4kecdc=s64",
      "userId": "12627549003426465017"
     },
     "user_tz": -330
    },
    "id": "4PBWe0V1-mK1",
    "outputId": "bd53d716-a397-43db-cb9a-597970eacd14"
   },
   "outputs": [
    {
     "name": "stdout",
     "output_type": "stream",
     "text": [
      "Model: \"model_1\"\n",
      "_________________________________________________________________\n",
      "Layer (type)                 Output Shape              Param #   \n",
      "=================================================================\n",
      "main_input (InputLayer)      (None, 210)               0         \n",
      "_________________________________________________________________\n",
      "embedding (Embedding)        (None, 210, 300)          18094800  \n",
      "_________________________________________________________________\n",
      "dropout_1 (Dropout)          (None, 210, 300)          0         \n",
      "_________________________________________________________________\n",
      "gru_1 (GRU)                  (None, 300)               540900    \n",
      "_________________________________________________________________\n",
      "mlp (Dense)                  (None, 400)               120400    \n",
      "_________________________________________________________________\n",
      "drop (Dropout)               (None, 400)               0         \n",
      "_________________________________________________________________\n",
      "output (Dense)               (None, 4)                 1604      \n",
      "=================================================================\n",
      "Total params: 18,757,704\n",
      "Trainable params: 662,904\n",
      "Non-trainable params: 18,094,800\n",
      "_________________________________________________________________\n",
      "None\n"
     ]
    },
    {
     "name": "stderr",
     "output_type": "stream",
     "text": [
      "/opt/conda/lib/python3.7/site-packages/ipykernel_launcher.py:39: UserWarning: Update your `Dense` call to the Keras 2 API: `Dense(400, activation=\"relu\", name=\"mlp\", kernel_initializer=\"he_normal\", kernel_constraint=<keras.con..., bias_constraint=<keras.con...)`\n",
      "/opt/conda/lib/python3.7/site-packages/ipykernel_launcher.py:44: UserWarning: Update your `Dense` call to the Keras 2 API: `Dense(4, activation=\"softmax\", name=\"output\", kernel_initializer=\"he_normal\")`\n",
      "/opt/conda/lib/python3.7/site-packages/ipykernel_launcher.py:46: UserWarning: Update your `Model` call to the Keras 2 API: `Model(inputs=Tensor(\"ma..., outputs=Tensor(\"ou...)`\n"
     ]
    }
   ],
   "source": [
    "model = build_RNN_model_new()"
   ]
  },
  {
   "cell_type": "code",
   "execution_count": null,
   "metadata": {
    "colab": {
     "base_uri": "https://localhost:8080/",
     "height": 156
    },
    "colab_type": "code",
    "executionInfo": {
     "elapsed": 139762,
     "status": "ok",
     "timestamp": 1594555612712,
     "user": {
      "displayName": "Lahiru Senevirathne",
      "photoUrl": "https://lh3.googleusercontent.com/a-/AOh14GiRzF3KfxeuLmDoDB90oNXQ5_ivLn8-Ar4kecdc=s64",
      "userId": "12627549003426465017"
     },
     "user_tz": -330
    },
    "id": "eMA3XMXFSj-1",
    "outputId": "5d9bb95c-c46f-4fa7-a1ac-0361fd7efdfd"
   },
   "outputs": [
    {
     "name": "stdout",
     "output_type": "stream",
     "text": [
      "Training and Testing...\n",
      "Train on 12047 samples, validate on 3012 samples\n",
      "Epoch 1/1\n",
      "12047/12047 [==============================] - 909s 75ms/step - loss: 1.0595 - accuracy: 0.5918 - val_loss: 1.0387 - val_accuracy: 0.5969\n",
      "Got best epoch  best val acc is 0.596946 test acc is 0.596946\n",
      "One round cost 955s, 14 round 13370s 222min left\n",
      "Train on 12047 samples, validate on 3012 samples\n",
      "Epoch 1/1\n",
      " 3104/12047 [======>.......................] - ETA: 12:03 - loss: 0.9902 - accuracy: 0.6086"
     ]
    }
   ],
   "source": [
    "trained_model = Train_Model(model,X_train, X_test, y_train, y_test)\n",
    "# Do_Cross_Validation(model,padded_docs,comment_labels)"
   ]
  },
  {
   "cell_type": "code",
   "execution_count": null,
   "metadata": {
    "colab": {},
    "colab_type": "code",
    "executionInfo": {
     "elapsed": 142492,
     "status": "ok",
     "timestamp": 1594555615480,
     "user": {
      "displayName": "Lahiru Senevirathne",
      "photoUrl": "https://lh3.googleusercontent.com/a-/AOh14GiRzF3KfxeuLmDoDB90oNXQ5_ivLn8-Ar4kecdc=s64",
      "userId": "12627549003426465017"
     },
     "user_tz": -330
    },
    "id": "MmA4iDmR2czB"
   },
   "outputs": [],
   "source": [
    "predictions = trained_model.predict(X_test, batch_size=batch_size, verbose=0)"
   ]
  },
  {
   "cell_type": "code",
   "execution_count": null,
   "metadata": {
    "colab": {},
    "colab_type": "code",
    "executionInfo": {
     "elapsed": 1327,
     "status": "ok",
     "timestamp": 1594555842710,
     "user": {
      "displayName": "Lahiru Senevirathne",
      "photoUrl": "https://lh3.googleusercontent.com/a-/AOh14GiRzF3KfxeuLmDoDB90oNXQ5_ivLn8-Ar4kecdc=s64",
      "userId": "12627549003426465017"
     },
     "user_tz": -330
    },
    "id": "aUyKF-x010CH"
   },
   "outputs": [],
   "source": [
    "labels = np.argmax(y_test, axis=1)\n",
    "predictions = np.argmax(predictions, axis=1)"
   ]
  },
  {
   "cell_type": "code",
   "execution_count": null,
   "metadata": {
    "colab": {
     "base_uri": "https://localhost:8080/",
     "height": 71
    },
    "colab_type": "code",
    "executionInfo": {
     "elapsed": 1700,
     "status": "ok",
     "timestamp": 1594556834777,
     "user": {
      "displayName": "Lahiru Senevirathne",
      "photoUrl": "https://lh3.googleusercontent.com/a-/AOh14GiRzF3KfxeuLmDoDB90oNXQ5_ivLn8-Ar4kecdc=s64",
      "userId": "12627549003426465017"
     },
     "user_tz": -330
    },
    "id": "kVeL03f-xkM4",
    "outputId": "fac579a0-1861-4c13-e5f8-c070e7a39e21"
   },
   "outputs": [],
   "source": [
    "report = classification_report(labels, predictions, digits=4,output_dict=True)\n",
    "report_df = pd.DataFrame(report).transpose()\n",
    "report_df.to_csv(experiment_name+\".csv\")"
   ]
  },
  {
   "cell_type": "code",
   "execution_count": null,
   "metadata": {
    "colab": {},
    "colab_type": "code",
    "id": "4o-NciVE_b7l"
   },
   "outputs": [],
   "source": []
  }
 ],
 "metadata": {
  "accelerator": "GPU",
  "colab": {
   "collapsed_sections": [
    "3zR8-aK009p9",
    "lrmGuYXf82E_",
    "hx80tScO_ddi",
    "Pt3TZsP84gRK",
    "k7QWHo7RBFYw",
    "P5nll2IhjLhr",
    "WC0ZRhKe5a6C",
    "u4DuyDZMkcE3",
    "B6CXqtIDR4jS"
   ],
   "name": "cnn_rnn_with_preprocess_multiclass.ipynb",
   "provenance": [
    {
     "file_id": "153374pBL1OZuAJMWKK_ae0D9_DUq4P0P",
     "timestamp": 1590420423516
    }
   ],
   "toc_visible": true
  },
  "environment": {
   "name": "tf2-2-2-gpu.2-2.m50",
   "type": "gcloud",
   "uri": "gcr.io/deeplearning-platform-release/tf2-2-2-gpu.2-2:m50"
  },
  "kernelspec": {
   "display_name": "Python 3",
   "language": "python",
   "name": "python3"
  },
  "language_info": {
   "codemirror_mode": {
    "name": "ipython",
    "version": 3
   },
   "file_extension": ".py",
   "mimetype": "text/x-python",
   "name": "python",
   "nbconvert_exporter": "python",
   "pygments_lexer": "ipython3",
   "version": "3.7.6"
  }
 },
 "nbformat": 4,
 "nbformat_minor": 4
}
